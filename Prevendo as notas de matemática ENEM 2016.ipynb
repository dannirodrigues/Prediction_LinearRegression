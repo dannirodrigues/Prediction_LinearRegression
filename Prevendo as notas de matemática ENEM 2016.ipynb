{
 "cells": [
  {
   "cell_type": "markdown",
   "metadata": {},
   "source": [
    "# Prevendo a nota do ENEM 2016 de matemática - Machine Learning "
   ]
  },
  {
   "cell_type": "markdown",
   "metadata": {},
   "source": [
    "Neste post irei mostrar todos os passos na criação de um modelo preditivo de Machine Learnig para prever a nota de matemática do ENEM 2016.  \n",
    "\n",
    "Esse foi um desafio que participei da codenation para o programa de acleradev em Data Science no qual obtive um score de 93,2% "
   ]
  },
  {
   "cell_type": "markdown",
   "metadata": {},
   "source": [
    "## 1 - primeiro passo \n",
    " Para elaboração desse modelo foi utilizado algumas bibliotecas, para maior facilidade indico baixar o anaconda no qual já tem todas essas bibliotecas."
   ]
  },
  {
   "cell_type": "markdown",
   "metadata": {},
   "source": [
    "# 2 - O que foi fornecido  e pedido pela codenation\n",
    "\n",
    "- foi fornecido 2 arquivos um train.csv e test.csv\n",
    "- Este arquivo, e apenas ele, deve ser utilizado para todos os desafios\n",
    "- No arquivo test.csv crie um modelo para prever nota da prova de matemática (coluna NU_NOTA_MT) de quem participou do ENEM 2016.\n",
    "- Salve sua resposta em um arquivo chamado answer.csv com duas colunas: NU_INSCRICAO e NU_NOTA_MT."
   ]
  },
  {
   "cell_type": "markdown",
   "metadata": {},
   "source": [
    "# 3 - Implementação "
   ]
  },
  {
   "cell_type": "code",
   "execution_count": 1,
   "metadata": {},
   "outputs": [],
   "source": [
    "import pandas as pd\n",
    "import numpy as np\n",
    "import matplotlib.pyplot as plt\n",
    "import seaborn as sns\n",
    "%matplotlib inline"
   ]
  },
  {
   "cell_type": "code",
   "execution_count": 2,
   "metadata": {},
   "outputs": [],
   "source": [
    "#lendo os arquivos\n",
    "train = pd.read_csv('train.csv')\n",
    "test = pd.read_csv('test.csv')"
   ]
  },
  {
   "cell_type": "code",
   "execution_count": 4,
   "metadata": {},
   "outputs": [],
   "source": [
    "traindf = train[['CO_UF_RESIDENCIA', 'SG_UF_RESIDENCIA', 'NU_IDADE',\n",
    "       'TP_SEXO', 'TP_COR_RACA', 'TP_NACIONALIDADE', 'TP_ST_CONCLUSAO',\n",
    "       'TP_ANO_CONCLUIU', 'TP_ESCOLA', 'TP_ENSINO', 'IN_TREINEIRO',\n",
    "       'TP_DEPENDENCIA_ADM_ESC', 'IN_BAIXA_VISAO', 'IN_CEGUEIRA', 'IN_SURDEZ',\n",
    "       'IN_DISLEXIA', 'IN_DISCALCULIA', 'IN_SABATISTA', 'IN_GESTANTE',\n",
    "       'IN_IDOSO', 'TP_PRESENCA_CN', 'TP_PRESENCA_CH', 'TP_PRESENCA_LC',\n",
    "       'CO_PROVA_CN', 'CO_PROVA_CH', 'CO_PROVA_LC', 'CO_PROVA_MT', 'NU_NOTA_MT',\n",
    "       'NU_NOTA_CN', 'NU_NOTA_CH', 'NU_NOTA_LC', 'TP_LINGUA',\n",
    "       'TP_STATUS_REDACAO', 'NU_NOTA_COMP1', 'NU_NOTA_COMP2', 'NU_NOTA_COMP3',\n",
    "       'NU_NOTA_COMP4', 'NU_NOTA_COMP5', 'NU_NOTA_REDACAO', 'Q001', 'Q002',\n",
    "       'Q006', 'Q024', 'Q025', 'Q026', 'Q027', 'Q047']]\n",
    "\n",
    "\n",
    "traindf = traindf[traindf['NU_NOTA_MT'].notna()]\n"
   ]
  },
  {
   "cell_type": "code",
   "execution_count": null,
   "metadata": {},
   "outputs": [],
   "source": []
  },
  {
   "cell_type": "markdown",
   "metadata": {},
   "source": [
    "### O que tem nas colunas "
   ]
  },
  {
   "cell_type": "code",
   "execution_count": 5,
   "metadata": {
    "scrolled": true
   },
   "outputs": [
    {
     "data": {
      "text/plain": [
       "Index(['CO_UF_RESIDENCIA', 'SG_UF_RESIDENCIA', 'NU_IDADE', 'TP_SEXO',\n",
       "       'TP_COR_RACA', 'TP_NACIONALIDADE', 'TP_ST_CONCLUSAO', 'TP_ANO_CONCLUIU',\n",
       "       'TP_ESCOLA', 'TP_ENSINO', 'IN_TREINEIRO', 'TP_DEPENDENCIA_ADM_ESC',\n",
       "       'IN_BAIXA_VISAO', 'IN_CEGUEIRA', 'IN_SURDEZ', 'IN_DISLEXIA',\n",
       "       'IN_DISCALCULIA', 'IN_SABATISTA', 'IN_GESTANTE', 'IN_IDOSO',\n",
       "       'TP_PRESENCA_CN', 'TP_PRESENCA_CH', 'TP_PRESENCA_LC', 'CO_PROVA_CN',\n",
       "       'CO_PROVA_CH', 'CO_PROVA_LC', 'CO_PROVA_MT', 'NU_NOTA_MT', 'NU_NOTA_CN',\n",
       "       'NU_NOTA_CH', 'NU_NOTA_LC', 'TP_LINGUA', 'TP_STATUS_REDACAO',\n",
       "       'NU_NOTA_COMP1', 'NU_NOTA_COMP2', 'NU_NOTA_COMP3', 'NU_NOTA_COMP4',\n",
       "       'NU_NOTA_COMP5', 'NU_NOTA_REDACAO', 'Q001', 'Q002', 'Q006', 'Q024',\n",
       "       'Q025', 'Q026', 'Q027', 'Q047'],\n",
       "      dtype='object')"
      ]
     },
     "execution_count": 5,
     "metadata": {},
     "output_type": "execute_result"
    }
   ],
   "source": [
    "traindf.columns"
   ]
  },
  {
   "cell_type": "markdown",
   "metadata": {},
   "source": [
    "####  Como tem uma quantidade razoável de colunas, vamos analisar  quais tem maior correlação com NU_NOTA_MT\n",
    "- As colunas que tiverem correlação menor 0.06 vão ser eliminadas\n",
    "\n"
   ]
  },
  {
   "cell_type": "code",
   "execution_count": 8,
   "metadata": {},
   "outputs": [],
   "source": [
    "corr_col = traindf.corr()[\"NU_NOTA_MT\"].drop(['TP_DEPENDENCIA_ADM_ESC','TP_ENSINO'])"
   ]
  },
  {
   "cell_type": "code",
   "execution_count": 9,
   "metadata": {},
   "outputs": [
    {
     "data": {
      "text/plain": [
       "Unnamed: 0                 0.006530\n",
       "NU_ANO                          NaN\n",
       "CO_MUNICIPIO_RESIDENCIA    0.108850\n",
       "CO_UF_RESIDENCIA           0.107493\n",
       "NU_IDADE                   0.061485\n",
       "                             ...   \n",
       "Q037                       0.265249\n",
       "Q038                       0.202259\n",
       "Q039                       0.019360\n",
       "Q040                       0.119997\n",
       "Q041                       0.131795\n",
       "Name: NU_NOTA_MT, Length: 107, dtype: float64"
      ]
     },
     "execution_count": 9,
     "metadata": {},
     "output_type": "execute_result"
    }
   ],
   "source": [
    "corr"
   ]
  },
  {
   "cell_type": "code",
   "execution_count": 15,
   "metadata": {},
   "outputs": [
    {
     "data": {
      "text/plain": [
       "(15,)"
      ]
     },
     "execution_count": 15,
     "metadata": {},
     "output_type": "execute_result"
    }
   ],
   "source": [
    "f_corr = corr_col[abs(corr_col)>0.06].drop(['NU_NOTA_MT']) #excluindo os dois ultimos pois tem muito null\n",
    "f_corr.shape"
   ]
  },
  {
   "cell_type": "code",
   "execution_count": null,
   "metadata": {},
   "outputs": [],
   "source": []
  },
  {
   "cell_type": "markdown",
   "metadata": {},
   "source": [
    "###  Com isso resta essas colunas, que são as que vão usadas no modelo "
   ]
  },
  {
   "cell_type": "code",
   "execution_count": 18,
   "metadata": {},
   "outputs": [
    {
     "name": "stdout",
     "output_type": "stream",
     "text": [
      "['CO_UF_RESIDENCIA', 'NU_IDADE', 'TP_COR_RACA', 'TP_ST_CONCLUSAO', 'TP_ESCOLA', 'NU_NOTA_CN', 'NU_NOTA_CH', 'NU_NOTA_LC', 'TP_LINGUA', 'NU_NOTA_COMP1', 'NU_NOTA_COMP2', 'NU_NOTA_COMP3', 'NU_NOTA_COMP4', 'NU_NOTA_COMP5', 'NU_NOTA_REDACAO', 'NU_NOTA_MT']\n"
     ]
    }
   ],
   "source": [
    "col_filter = list(f_corr.index)\n",
    "col_filter.append('NU_NOTA_MT')\n",
    "print(col_filter)\n"
   ]
  },
  {
   "cell_type": "code",
   "execution_count": 12,
   "metadata": {},
   "outputs": [],
   "source": []
  },
  {
   "cell_type": "code",
   "execution_count": null,
   "metadata": {},
   "outputs": [],
   "source": []
  },
  {
   "cell_type": "code",
   "execution_count": 232,
   "metadata": {},
   "outputs": [
    {
     "name": "stdout",
     "output_type": "stream",
     "text": [
      "{'NU_NOTA_COMP3', 'TP_ST_CONCLUSAO', 'TP_LINGUA', 'NU_IDADE', 'NU_NOTA_COMP5', 'CO_UF_RESIDENCIA', 'TP_ESCOLA', 'NU_NOTA_CH', 'NU_NOTA_REDACAO', 'NU_NOTA_COMP2', 'TP_ENSINO', 'TP_COR_RACA', 'NU_NOTA_LC', 'TP_DEPENDENCIA_ADM_ESC', 'NU_NOTA_COMP1', 'NU_NOTA_COMP4', 'NU_NOTA_CN'}\n"
     ]
    }
   ],
   "source": [
    "print(a&b)"
   ]
  },
  {
   "cell_type": "markdown",
   "metadata": {},
   "source": [
    "### Tratando os NaN, para isso tem outras opções do que se pode fazer, no meu caso vou remover\n"
   ]
  },
  {
   "cell_type": "code",
   "execution_count": 39,
   "metadata": {},
   "outputs": [
    {
     "name": "stdout",
     "output_type": "stream",
     "text": [
      "<class 'pandas.core.frame.DataFrame'>\n",
      "RangeIndex: 13730 entries, 0 to 13729\n",
      "Data columns (total 16 columns):\n",
      " #   Column            Non-Null Count  Dtype  \n",
      "---  ------            --------------  -----  \n",
      " 0   CO_UF_RESIDENCIA  13730 non-null  int64  \n",
      " 1   NU_IDADE          13730 non-null  int64  \n",
      " 2   TP_COR_RACA       13730 non-null  int64  \n",
      " 3   TP_ST_CONCLUSAO   13730 non-null  int64  \n",
      " 4   TP_ESCOLA         13730 non-null  int64  \n",
      " 5   NU_NOTA_CN        13730 non-null  float64\n",
      " 6   NU_NOTA_CH        13730 non-null  float64\n",
      " 7   NU_NOTA_LC        13730 non-null  float64\n",
      " 8   TP_LINGUA         13730 non-null  int64  \n",
      " 9   NU_NOTA_COMP1     13730 non-null  float64\n",
      " 10  NU_NOTA_COMP2     13730 non-null  float64\n",
      " 11  NU_NOTA_COMP3     13730 non-null  float64\n",
      " 12  NU_NOTA_COMP4     13730 non-null  float64\n",
      " 13  NU_NOTA_COMP5     13730 non-null  float64\n",
      " 14  NU_NOTA_REDACAO   13730 non-null  float64\n",
      " 15  NU_NOTA_MT        13730 non-null  float64\n",
      "dtypes: float64(10), int64(6)\n",
      "memory usage: 1.7 MB\n"
     ]
    }
   ],
   "source": [
    "f_train = train[col_filter].fillna(0)\n",
    "f_train.info()\n"
   ]
  },
  {
   "cell_type": "code",
   "execution_count": 40,
   "metadata": {},
   "outputs": [],
   "source": [
    "#f_train = train[col_filter].fillna(0)\n",
    "#f_train =train[]"
   ]
  },
  {
   "cell_type": "markdown",
   "metadata": {},
   "source": [
    "### Agora com os dados tratados, criando o modelo de regressão\n",
    "- Atribuir y_train ao meu target\n",
    "- Setar x_test e x_train com as colunas selecionadas\n",
    "- Normalizar os dados"
   ]
  },
  {
   "cell_type": "code",
   "execution_count": 41,
   "metadata": {},
   "outputs": [],
   "source": [
    "from sklearn.model_selection import train_test_split"
   ]
  },
  {
   "cell_type": "code",
   "execution_count": 42,
   "metadata": {},
   "outputs": [
    {
     "data": {
      "text/plain": [
       "Index(['CO_UF_RESIDENCIA', 'NU_IDADE', 'TP_COR_RACA', 'TP_ST_CONCLUSAO',\n",
       "       'TP_ESCOLA', 'NU_NOTA_CN', 'NU_NOTA_CH', 'NU_NOTA_LC', 'TP_LINGUA',\n",
       "       'NU_NOTA_COMP1', 'NU_NOTA_COMP2', 'NU_NOTA_COMP3', 'NU_NOTA_COMP4',\n",
       "       'NU_NOTA_COMP5', 'NU_NOTA_REDACAO', 'NU_NOTA_MT'],\n",
       "      dtype='object')"
      ]
     },
     "execution_count": 42,
     "metadata": {},
     "output_type": "execute_result"
    }
   ],
   "source": [
    "f_train.columns"
   ]
  },
  {
   "cell_type": "code",
   "execution_count": 43,
   "metadata": {},
   "outputs": [],
   "source": [
    "y = f_train['NU_NOTA_MT']\n",
    "x = f_train.drop(columns=['NU_NOTA_MT'])#TIROU A COLUN ADE MATEMATICA"
   ]
  },
  {
   "cell_type": "code",
   "execution_count": 44,
   "metadata": {},
   "outputs": [
    {
     "data": {
      "text/plain": [
       "Index(['CO_UF_RESIDENCIA', 'NU_IDADE', 'TP_COR_RACA', 'TP_ST_CONCLUSAO',\n",
       "       'TP_ESCOLA', 'NU_NOTA_CN', 'NU_NOTA_CH', 'NU_NOTA_LC', 'TP_LINGUA',\n",
       "       'NU_NOTA_COMP1', 'NU_NOTA_COMP2', 'NU_NOTA_COMP3', 'NU_NOTA_COMP4',\n",
       "       'NU_NOTA_COMP5', 'NU_NOTA_REDACAO'],\n",
       "      dtype='object')"
      ]
     },
     "execution_count": 44,
     "metadata": {},
     "output_type": "execute_result"
    }
   ],
   "source": [
    "x.columns"
   ]
  },
  {
   "cell_type": "code",
   "execution_count": 45,
   "metadata": {},
   "outputs": [],
   "source": [
    "x_train,x_test,y_train, y_test = train_test_split(x,y,test_size=0.4, random_state=101)"
   ]
  },
  {
   "cell_type": "markdown",
   "metadata": {},
   "source": [
    "### O modelo que usei para fazer a regressão, no caso foi o LinearRegression."
   ]
  },
  {
   "cell_type": "code",
   "execution_count": 46,
   "metadata": {},
   "outputs": [],
   "source": [
    "from sklearn.linear_model import LinearRegression\n",
    "\n",
    "lm = LinearRegression()"
   ]
  },
  {
   "cell_type": "code",
   "execution_count": 47,
   "metadata": {},
   "outputs": [
    {
     "data": {
      "text/plain": [
       "LinearRegression(copy_X=True, fit_intercept=True, n_jobs=None, normalize=False)"
      ]
     },
     "execution_count": 47,
     "metadata": {},
     "output_type": "execute_result"
    }
   ],
   "source": [
    "lm.fit(x_train, y_train)"
   ]
  },
  {
   "cell_type": "code",
   "execution_count": 48,
   "metadata": {},
   "outputs": [],
   "source": [
    "prediction = lm.predict(x_test)"
   ]
  },
  {
   "cell_type": "code",
   "execution_count": 49,
   "metadata": {},
   "outputs": [
    {
     "data": {
      "text/plain": [
       "array([4.31733307e+02, 4.64076939e+02, 4.21582422e+02, ...,\n",
       "       4.76933585e+02, 2.10807451e-01, 4.96266081e+02])"
      ]
     },
     "execution_count": 49,
     "metadata": {},
     "output_type": "execute_result"
    }
   ],
   "source": [
    "prediction"
   ]
  },
  {
   "cell_type": "markdown",
   "metadata": {},
   "source": [
    "### A variável prediction está com o previsão da nota de matemática do arq train, mas o que queremos mesmo é do arquivo test, isso foi feito apenas para testar o modelo e ver o quão bom ele, já que já temos esses valores e podemos testar se ele prever o que queremos"
   ]
  },
  {
   "cell_type": "markdown",
   "metadata": {},
   "source": [
    "### Vamos criar um gráfico para confrontar os valores reais contra os valores previstos"
   ]
  },
  {
   "cell_type": "code",
   "execution_count": 50,
   "metadata": {},
   "outputs": [
    {
     "data": {
      "image/png": "[encoded data removed]",
      "text/plain": [
       "<Figure size 432x288 with 1 Axes>"
      ]
     },
     "metadata": {
      "needs_background": "light"
     },
     "output_type": "display_data"
    }
   ],
   "source": [
    "plt.scatter(y_test, prediction)\n",
    "range = [y_test.min(),prediction.max()]\n",
    "plt.plot(range, range, 'red')\n",
    "plt.xlabel('Nota real')\n",
    "plt.ylabel('Nota predito')\n",
    "plt.show()"
   ]
  },
  {
   "cell_type": "code",
   "execution_count": 51,
   "metadata": {},
   "outputs": [
    {
     "data": {
      "text/plain": [
       "<matplotlib.axes._subplots.AxesSubplot at 0x7f8708665990>"
      ]
     },
     "execution_count": 51,
     "metadata": {},
     "output_type": "execute_result"
    },
    {
     "data": {
      "image/png": "[encoded data removed]",
      "text/plain": [
       "<Figure size 432x288 with 1 Axes>"
      ]
     },
     "metadata": {
      "needs_background": "light"
     },
     "output_type": "display_data"
    }
   ],
   "source": [
    "sns.distplot((y_test - prediction))"
   ]
  },
  {
   "cell_type": "markdown",
   "metadata": {},
   "source": [
    "### O primeiro gráfico  da  regressão linear sugere que a nossa reta se adaptou razoavelmente bem aos nossos dados, pois é possível ver que os dados ficaram agrupados com  alguns pequenos erros. Talvez as métricas nos digam mais sobre isso."
   ]
  },
  {
   "cell_type": "code",
   "execution_count": 52,
   "metadata": {},
   "outputs": [],
   "source": [
    "from sklearn import metrics"
   ]
  },
  {
   "cell_type": "markdown",
   "metadata": {},
   "source": [
    "### Mean Absolute Error ou Erro Médio Absoluto\n",
    "Esta é certamente a métrica de qualidade mais básica que há para se analisar uma regressão. Para explicá-la, eu preciso que você observe a imagem acima, e considere a distância entre a reta vermelha e os pontos azuis como erros. O Erro Médio Absoluto é a soma de todos esses erros divido pelo número de pontos."
   ]
  },
  {
   "cell_type": "code",
   "execution_count": 53,
   "metadata": {},
   "outputs": [
    {
     "name": "stdout",
     "output_type": "stream",
     "text": [
      "MAE 49.81184408533235\n"
     ]
    }
   ],
   "source": [
    "print(\"MAE\", metrics.mean_absolute_error(y_test,prediction))\n",
    "\n"
   ]
  },
  {
   "cell_type": "code",
   "execution_count": null,
   "metadata": {},
   "outputs": [],
   "source": []
  },
  {
   "cell_type": "markdown",
   "metadata": {},
   "source": [
    "### Mean Squared Error ou Erro Médio Quadrático\n",
    "O Erro Médio Quadrático tem como base o Erro Médio Absoluto, contudo, o erro (distância entre os pontos e a reta) é elevado ao quadrado."
   ]
  },
  {
   "cell_type": "code",
   "execution_count": 54,
   "metadata": {},
   "outputs": [
    {
     "name": "stdout",
     "output_type": "stream",
     "text": [
      "MSE 4988.018872722111\n"
     ]
    }
   ],
   "source": [
    "print(\"MSE\", metrics.mean_squared_error(y_test,prediction))"
   ]
  },
  {
   "cell_type": "code",
   "execution_count": null,
   "metadata": {},
   "outputs": [],
   "source": []
  },
  {
   "cell_type": "markdown",
   "metadata": {},
   "source": [
    "### Cross Validation ou Validação Cruzada\n",
    "A Validação Cruzada testa como o modelo se comporta diante de dados que não foram usados como treinamento."
   ]
  },
  {
   "cell_type": "code",
   "execution_count": 55,
   "metadata": {},
   "outputs": [
    {
     "name": "stdout",
     "output_type": "stream",
     "text": [
      "RMSE 70.62590794263895\n"
     ]
    }
   ],
   "source": [
    "print(\"RMSE\", np.sqrt(metrics.mean_squared_error(y_test,prediction)))"
   ]
  },
  {
   "cell_type": "markdown",
   "metadata": {},
   "source": [
    "#### É possível ver que tem erro o que é normal por ser uma previsão, mas é viável aplicar o modelo por ter um erro pequeno"
   ]
  },
  {
   "cell_type": "markdown",
   "metadata": {},
   "source": [
    "## Agora é a hora mais esperada, o qual é o verdadeiro objetivo, prever as notas de matemáticas do arquivo test, com o modelo criado"
   ]
  },
  {
   "cell_type": "code",
   "execution_count": 60,
   "metadata": {},
   "outputs": [
    {
     "data": {
      "text/plain": [
       "Index(['NU_INSCRICAO', 'CO_UF_RESIDENCIA', 'SG_UF_RESIDENCIA', 'NU_IDADE',\n",
       "       'TP_SEXO', 'TP_COR_RACA', 'TP_NACIONALIDADE', 'TP_ST_CONCLUSAO',\n",
       "       'TP_ANO_CONCLUIU', 'TP_ESCOLA', 'TP_ENSINO', 'IN_TREINEIRO',\n",
       "       'TP_DEPENDENCIA_ADM_ESC', 'IN_BAIXA_VISAO', 'IN_CEGUEIRA', 'IN_SURDEZ',\n",
       "       'IN_DISLEXIA', 'IN_DISCALCULIA', 'IN_SABATISTA', 'IN_GESTANTE',\n",
       "       'IN_IDOSO', 'TP_PRESENCA_CN', 'TP_PRESENCA_CH', 'TP_PRESENCA_LC',\n",
       "       'CO_PROVA_CN', 'CO_PROVA_CH', 'CO_PROVA_LC', 'CO_PROVA_MT',\n",
       "       'NU_NOTA_CN', 'NU_NOTA_CH', 'NU_NOTA_LC', 'TP_LINGUA',\n",
       "       'TP_STATUS_REDACAO', 'NU_NOTA_COMP1', 'NU_NOTA_COMP2', 'NU_NOTA_COMP3',\n",
       "       'NU_NOTA_COMP4', 'NU_NOTA_COMP5', 'NU_NOTA_REDACAO', 'Q001', 'Q002',\n",
       "       'Q006', 'Q024', 'Q025', 'Q026', 'Q027', 'Q047'],\n",
       "      dtype='object')"
      ]
     },
     "execution_count": 60,
     "metadata": {},
     "output_type": "execute_result"
    }
   ],
   "source": [
    "test.columns"
   ]
  },
  {
   "cell_type": "markdown",
   "metadata": {},
   "source": [
    "### Primeira coisa que temos que fazer é deixar o mesmo numero de coluna e as mesma colunas das que treinamos o modelo, e já vamos tirar os NaN "
   ]
  },
  {
   "cell_type": "markdown",
   "metadata": {},
   "source": [
    "   ### Importante no desafio pede para respostar conter a nota de matemática e o númerico de inscrição, então vamos colocar o NU_INSCRICAO com index"
   ]
  },
  {
   "cell_type": "code",
   "execution_count": 63,
   "metadata": {},
   "outputs": [
    {
     "data": {
      "text/html": [
       "<div>\n",
       "<style scoped>\n",
       "    .dataframe tbody tr th:only-of-type {\n",
       "        vertical-align: middle;\n",
       "    }\n",
       "\n",
       "    .dataframe tbody tr th {\n",
       "        vertical-align: top;\n",
       "    }\n",
       "\n",
       "    .dataframe thead th {\n",
       "        text-align: right;\n",
       "    }\n",
       "</style>\n",
       "<table border=\"1\" class=\"dataframe\">\n",
       "  <thead>\n",
       "    <tr style=\"text-align: right;\">\n",
       "      <th></th>\n",
       "      <th>CO_UF_RESIDENCIA</th>\n",
       "      <th>NU_IDADE</th>\n",
       "      <th>TP_COR_RACA</th>\n",
       "      <th>TP_ST_CONCLUSAO</th>\n",
       "      <th>TP_ESCOLA</th>\n",
       "      <th>NU_NOTA_CN</th>\n",
       "      <th>NU_NOTA_CH</th>\n",
       "      <th>NU_NOTA_LC</th>\n",
       "      <th>TP_LINGUA</th>\n",
       "      <th>NU_NOTA_COMP1</th>\n",
       "      <th>NU_NOTA_COMP2</th>\n",
       "      <th>NU_NOTA_COMP3</th>\n",
       "      <th>NU_NOTA_COMP4</th>\n",
       "      <th>NU_NOTA_COMP5</th>\n",
       "      <th>NU_NOTA_REDACAO</th>\n",
       "    </tr>\n",
       "    <tr>\n",
       "      <th>NU_INSCRICAO</th>\n",
       "      <th></th>\n",
       "      <th></th>\n",
       "      <th></th>\n",
       "      <th></th>\n",
       "      <th></th>\n",
       "      <th></th>\n",
       "      <th></th>\n",
       "      <th></th>\n",
       "      <th></th>\n",
       "      <th></th>\n",
       "      <th></th>\n",
       "      <th></th>\n",
       "      <th></th>\n",
       "      <th></th>\n",
       "      <th></th>\n",
       "    </tr>\n",
       "  </thead>\n",
       "  <tbody>\n",
       "    <tr>\n",
       "      <th>73ff9fcc02f0a99919906c942c2e1a1042cdcf98</th>\n",
       "      <td>41</td>\n",
       "      <td>22</td>\n",
       "      <td>3</td>\n",
       "      <td>1</td>\n",
       "      <td>1</td>\n",
       "      <td>464.8</td>\n",
       "      <td>443.5</td>\n",
       "      <td>431.8</td>\n",
       "      <td>0</td>\n",
       "      <td>120.0</td>\n",
       "      <td>80.0</td>\n",
       "      <td>80.0</td>\n",
       "      <td>100.0</td>\n",
       "      <td>40.0</td>\n",
       "      <td>420.0</td>\n",
       "    </tr>\n",
       "    <tr>\n",
       "      <th>71a95f9f1b91a82c65ad94abbdf9f54e6066f968</th>\n",
       "      <td>21</td>\n",
       "      <td>26</td>\n",
       "      <td>3</td>\n",
       "      <td>1</td>\n",
       "      <td>1</td>\n",
       "      <td>391.1</td>\n",
       "      <td>491.1</td>\n",
       "      <td>548.0</td>\n",
       "      <td>1</td>\n",
       "      <td>120.0</td>\n",
       "      <td>120.0</td>\n",
       "      <td>120.0</td>\n",
       "      <td>120.0</td>\n",
       "      <td>100.0</td>\n",
       "      <td>580.0</td>\n",
       "    </tr>\n",
       "    <tr>\n",
       "      <th>b38a03232f43b11c9d0788abaf060f7366053b6d</th>\n",
       "      <td>23</td>\n",
       "      <td>21</td>\n",
       "      <td>1</td>\n",
       "      <td>2</td>\n",
       "      <td>2</td>\n",
       "      <td>595.9</td>\n",
       "      <td>622.7</td>\n",
       "      <td>613.6</td>\n",
       "      <td>0</td>\n",
       "      <td>80.0</td>\n",
       "      <td>40.0</td>\n",
       "      <td>40.0</td>\n",
       "      <td>80.0</td>\n",
       "      <td>80.0</td>\n",
       "      <td>320.0</td>\n",
       "    </tr>\n",
       "    <tr>\n",
       "      <th>70b682d9a3636be23f6120fa9d6b164eb3c6002d</th>\n",
       "      <td>15</td>\n",
       "      <td>27</td>\n",
       "      <td>3</td>\n",
       "      <td>1</td>\n",
       "      <td>1</td>\n",
       "      <td>0.0</td>\n",
       "      <td>0.0</td>\n",
       "      <td>0.0</td>\n",
       "      <td>0</td>\n",
       "      <td>0.0</td>\n",
       "      <td>0.0</td>\n",
       "      <td>0.0</td>\n",
       "      <td>0.0</td>\n",
       "      <td>0.0</td>\n",
       "      <td>0.0</td>\n",
       "    </tr>\n",
       "    <tr>\n",
       "      <th>715494628a50142ce8cb17191cfe6d0f3cae0934</th>\n",
       "      <td>41</td>\n",
       "      <td>18</td>\n",
       "      <td>1</td>\n",
       "      <td>2</td>\n",
       "      <td>2</td>\n",
       "      <td>592.9</td>\n",
       "      <td>492.6</td>\n",
       "      <td>571.4</td>\n",
       "      <td>1</td>\n",
       "      <td>100.0</td>\n",
       "      <td>80.0</td>\n",
       "      <td>60.0</td>\n",
       "      <td>80.0</td>\n",
       "      <td>0.0</td>\n",
       "      <td>320.0</td>\n",
       "    </tr>\n",
       "    <tr>\n",
       "      <th>...</th>\n",
       "      <td>...</td>\n",
       "      <td>...</td>\n",
       "      <td>...</td>\n",
       "      <td>...</td>\n",
       "      <td>...</td>\n",
       "      <td>...</td>\n",
       "      <td>...</td>\n",
       "      <td>...</td>\n",
       "      <td>...</td>\n",
       "      <td>...</td>\n",
       "      <td>...</td>\n",
       "      <td>...</td>\n",
       "      <td>...</td>\n",
       "      <td>...</td>\n",
       "      <td>...</td>\n",
       "    </tr>\n",
       "    <tr>\n",
       "      <th>dac0f22429c7f8e3931d0abaf5dfc8e5c772a48b</th>\n",
       "      <td>41</td>\n",
       "      <td>17</td>\n",
       "      <td>1</td>\n",
       "      <td>2</td>\n",
       "      <td>2</td>\n",
       "      <td>398.3</td>\n",
       "      <td>558.2</td>\n",
       "      <td>511.6</td>\n",
       "      <td>0</td>\n",
       "      <td>120.0</td>\n",
       "      <td>120.0</td>\n",
       "      <td>120.0</td>\n",
       "      <td>100.0</td>\n",
       "      <td>40.0</td>\n",
       "      <td>500.0</td>\n",
       "    </tr>\n",
       "    <tr>\n",
       "      <th>a75fa8770257e7c9368d059fe53d9ef431f4bdef</th>\n",
       "      <td>35</td>\n",
       "      <td>17</td>\n",
       "      <td>2</td>\n",
       "      <td>2</td>\n",
       "      <td>2</td>\n",
       "      <td>427.6</td>\n",
       "      <td>579.7</td>\n",
       "      <td>471.1</td>\n",
       "      <td>1</td>\n",
       "      <td>100.0</td>\n",
       "      <td>100.0</td>\n",
       "      <td>100.0</td>\n",
       "      <td>120.0</td>\n",
       "      <td>100.0</td>\n",
       "      <td>520.0</td>\n",
       "    </tr>\n",
       "    <tr>\n",
       "      <th>655fa6306720ff16e825903b5422a46608a77545</th>\n",
       "      <td>35</td>\n",
       "      <td>19</td>\n",
       "      <td>1</td>\n",
       "      <td>1</td>\n",
       "      <td>1</td>\n",
       "      <td>639.2</td>\n",
       "      <td>643.8</td>\n",
       "      <td>604.9</td>\n",
       "      <td>0</td>\n",
       "      <td>160.0</td>\n",
       "      <td>140.0</td>\n",
       "      <td>120.0</td>\n",
       "      <td>140.0</td>\n",
       "      <td>80.0</td>\n",
       "      <td>640.0</td>\n",
       "    </tr>\n",
       "    <tr>\n",
       "      <th>1f4bc3e3d56212d500625bfe8ac78ccff4362293</th>\n",
       "      <td>52</td>\n",
       "      <td>17</td>\n",
       "      <td>2</td>\n",
       "      <td>3</td>\n",
       "      <td>1</td>\n",
       "      <td>427.1</td>\n",
       "      <td>467.9</td>\n",
       "      <td>540.2</td>\n",
       "      <td>1</td>\n",
       "      <td>140.0</td>\n",
       "      <td>80.0</td>\n",
       "      <td>80.0</td>\n",
       "      <td>140.0</td>\n",
       "      <td>80.0</td>\n",
       "      <td>520.0</td>\n",
       "    </tr>\n",
       "    <tr>\n",
       "      <th>adf0d15b54317b6564ef56dad2b775bbb0ef50cc</th>\n",
       "      <td>33</td>\n",
       "      <td>30</td>\n",
       "      <td>1</td>\n",
       "      <td>1</td>\n",
       "      <td>1</td>\n",
       "      <td>0.0</td>\n",
       "      <td>0.0</td>\n",
       "      <td>0.0</td>\n",
       "      <td>1</td>\n",
       "      <td>0.0</td>\n",
       "      <td>0.0</td>\n",
       "      <td>0.0</td>\n",
       "      <td>0.0</td>\n",
       "      <td>0.0</td>\n",
       "      <td>0.0</td>\n",
       "    </tr>\n",
       "  </tbody>\n",
       "</table>\n",
       "<p>4576 rows × 15 columns</p>\n",
       "</div>"
      ],
      "text/plain": [
       "                                          CO_UF_RESIDENCIA  NU_IDADE  \\\n",
       "NU_INSCRICAO                                                           \n",
       "73ff9fcc02f0a99919906c942c2e1a1042cdcf98                41        22   \n",
       "71a95f9f1b91a82c65ad94abbdf9f54e6066f968                21        26   \n",
       "b38a03232f43b11c9d0788abaf060f7366053b6d                23        21   \n",
       "70b682d9a3636be23f6120fa9d6b164eb3c6002d                15        27   \n",
       "715494628a50142ce8cb17191cfe6d0f3cae0934                41        18   \n",
       "...                                                    ...       ...   \n",
       "dac0f22429c7f8e3931d0abaf5dfc8e5c772a48b                41        17   \n",
       "a75fa8770257e7c9368d059fe53d9ef431f4bdef                35        17   \n",
       "655fa6306720ff16e825903b5422a46608a77545                35        19   \n",
       "1f4bc3e3d56212d500625bfe8ac78ccff4362293                52        17   \n",
       "adf0d15b54317b6564ef56dad2b775bbb0ef50cc                33        30   \n",
       "\n",
       "                                          TP_COR_RACA  TP_ST_CONCLUSAO  \\\n",
       "NU_INSCRICAO                                                             \n",
       "73ff9fcc02f0a99919906c942c2e1a1042cdcf98            3                1   \n",
       "71a95f9f1b91a82c65ad94abbdf9f54e6066f968            3                1   \n",
       "b38a03232f43b11c9d0788abaf060f7366053b6d            1                2   \n",
       "70b682d9a3636be23f6120fa9d6b164eb3c6002d            3                1   \n",
       "715494628a50142ce8cb17191cfe6d0f3cae0934            1                2   \n",
       "...                                               ...              ...   \n",
       "dac0f22429c7f8e3931d0abaf5dfc8e5c772a48b            1                2   \n",
       "a75fa8770257e7c9368d059fe53d9ef431f4bdef            2                2   \n",
       "655fa6306720ff16e825903b5422a46608a77545            1                1   \n",
       "1f4bc3e3d56212d500625bfe8ac78ccff4362293            2                3   \n",
       "adf0d15b54317b6564ef56dad2b775bbb0ef50cc            1                1   \n",
       "\n",
       "                                          TP_ESCOLA  NU_NOTA_CN  NU_NOTA_CH  \\\n",
       "NU_INSCRICAO                                                                  \n",
       "73ff9fcc02f0a99919906c942c2e1a1042cdcf98          1       464.8       443.5   \n",
       "71a95f9f1b91a82c65ad94abbdf9f54e6066f968          1       391.1       491.1   \n",
       "b38a03232f43b11c9d0788abaf060f7366053b6d          2       595.9       622.7   \n",
       "70b682d9a3636be23f6120fa9d6b164eb3c6002d          1         0.0         0.0   \n",
       "715494628a50142ce8cb17191cfe6d0f3cae0934          2       592.9       492.6   \n",
       "...                                             ...         ...         ...   \n",
       "dac0f22429c7f8e3931d0abaf5dfc8e5c772a48b          2       398.3       558.2   \n",
       "a75fa8770257e7c9368d059fe53d9ef431f4bdef          2       427.6       579.7   \n",
       "655fa6306720ff16e825903b5422a46608a77545          1       639.2       643.8   \n",
       "1f4bc3e3d56212d500625bfe8ac78ccff4362293          1       427.1       467.9   \n",
       "adf0d15b54317b6564ef56dad2b775bbb0ef50cc          1         0.0         0.0   \n",
       "\n",
       "                                          NU_NOTA_LC  TP_LINGUA  \\\n",
       "NU_INSCRICAO                                                      \n",
       "73ff9fcc02f0a99919906c942c2e1a1042cdcf98       431.8          0   \n",
       "71a95f9f1b91a82c65ad94abbdf9f54e6066f968       548.0          1   \n",
       "b38a03232f43b11c9d0788abaf060f7366053b6d       613.6          0   \n",
       "70b682d9a3636be23f6120fa9d6b164eb3c6002d         0.0          0   \n",
       "715494628a50142ce8cb17191cfe6d0f3cae0934       571.4          1   \n",
       "...                                              ...        ...   \n",
       "dac0f22429c7f8e3931d0abaf5dfc8e5c772a48b       511.6          0   \n",
       "a75fa8770257e7c9368d059fe53d9ef431f4bdef       471.1          1   \n",
       "655fa6306720ff16e825903b5422a46608a77545       604.9          0   \n",
       "1f4bc3e3d56212d500625bfe8ac78ccff4362293       540.2          1   \n",
       "adf0d15b54317b6564ef56dad2b775bbb0ef50cc         0.0          1   \n",
       "\n",
       "                                          NU_NOTA_COMP1  NU_NOTA_COMP2  \\\n",
       "NU_INSCRICAO                                                             \n",
       "73ff9fcc02f0a99919906c942c2e1a1042cdcf98          120.0           80.0   \n",
       "71a95f9f1b91a82c65ad94abbdf9f54e6066f968          120.0          120.0   \n",
       "b38a03232f43b11c9d0788abaf060f7366053b6d           80.0           40.0   \n",
       "70b682d9a3636be23f6120fa9d6b164eb3c6002d            0.0            0.0   \n",
       "715494628a50142ce8cb17191cfe6d0f3cae0934          100.0           80.0   \n",
       "...                                                 ...            ...   \n",
       "dac0f22429c7f8e3931d0abaf5dfc8e5c772a48b          120.0          120.0   \n",
       "a75fa8770257e7c9368d059fe53d9ef431f4bdef          100.0          100.0   \n",
       "655fa6306720ff16e825903b5422a46608a77545          160.0          140.0   \n",
       "1f4bc3e3d56212d500625bfe8ac78ccff4362293          140.0           80.0   \n",
       "adf0d15b54317b6564ef56dad2b775bbb0ef50cc            0.0            0.0   \n",
       "\n",
       "                                          NU_NOTA_COMP3  NU_NOTA_COMP4  \\\n",
       "NU_INSCRICAO                                                             \n",
       "73ff9fcc02f0a99919906c942c2e1a1042cdcf98           80.0          100.0   \n",
       "71a95f9f1b91a82c65ad94abbdf9f54e6066f968          120.0          120.0   \n",
       "b38a03232f43b11c9d0788abaf060f7366053b6d           40.0           80.0   \n",
       "70b682d9a3636be23f6120fa9d6b164eb3c6002d            0.0            0.0   \n",
       "715494628a50142ce8cb17191cfe6d0f3cae0934           60.0           80.0   \n",
       "...                                                 ...            ...   \n",
       "dac0f22429c7f8e3931d0abaf5dfc8e5c772a48b          120.0          100.0   \n",
       "a75fa8770257e7c9368d059fe53d9ef431f4bdef          100.0          120.0   \n",
       "655fa6306720ff16e825903b5422a46608a77545          120.0          140.0   \n",
       "1f4bc3e3d56212d500625bfe8ac78ccff4362293           80.0          140.0   \n",
       "adf0d15b54317b6564ef56dad2b775bbb0ef50cc            0.0            0.0   \n",
       "\n",
       "                                          NU_NOTA_COMP5  NU_NOTA_REDACAO  \n",
       "NU_INSCRICAO                                                              \n",
       "73ff9fcc02f0a99919906c942c2e1a1042cdcf98           40.0            420.0  \n",
       "71a95f9f1b91a82c65ad94abbdf9f54e6066f968          100.0            580.0  \n",
       "b38a03232f43b11c9d0788abaf060f7366053b6d           80.0            320.0  \n",
       "70b682d9a3636be23f6120fa9d6b164eb3c6002d            0.0              0.0  \n",
       "715494628a50142ce8cb17191cfe6d0f3cae0934            0.0            320.0  \n",
       "...                                                 ...              ...  \n",
       "dac0f22429c7f8e3931d0abaf5dfc8e5c772a48b           40.0            500.0  \n",
       "a75fa8770257e7c9368d059fe53d9ef431f4bdef          100.0            520.0  \n",
       "655fa6306720ff16e825903b5422a46608a77545           80.0            640.0  \n",
       "1f4bc3e3d56212d500625bfe8ac78ccff4362293           80.0            520.0  \n",
       "adf0d15b54317b6564ef56dad2b775bbb0ef50cc            0.0              0.0  \n",
       "\n",
       "[4576 rows x 15 columns]"
      ]
     },
     "execution_count": 63,
     "metadata": {},
     "output_type": "execute_result"
    }
   ],
   "source": [
    "fitest = test.set_index('NU_INSCRICAO')\n",
    "ftest = fitest[x.columns].fillna(0)\n",
    "ftest"
   ]
  },
  {
   "cell_type": "code",
   "execution_count": 65,
   "metadata": {},
   "outputs": [
    {
     "data": {
      "text/plain": [
       "CO_UF_RESIDENCIA      int64\n",
       "NU_IDADE              int64\n",
       "TP_COR_RACA           int64\n",
       "TP_ST_CONCLUSAO       int64\n",
       "TP_ESCOLA             int64\n",
       "NU_NOTA_CN          float64\n",
       "NU_NOTA_CH          float64\n",
       "NU_NOTA_LC          float64\n",
       "TP_LINGUA             int64\n",
       "NU_NOTA_COMP1       float64\n",
       "NU_NOTA_COMP2       float64\n",
       "NU_NOTA_COMP3       float64\n",
       "NU_NOTA_COMP4       float64\n",
       "NU_NOTA_COMP5       float64\n",
       "NU_NOTA_REDACAO     float64\n",
       "dtype: object"
      ]
     },
     "execution_count": 65,
     "metadata": {},
     "output_type": "execute_result"
    }
   ],
   "source": [
    "ftest.dtypes"
   ]
  },
  {
   "cell_type": "markdown",
   "metadata": {},
   "source": [
    "# E agora é a hora da verdade, vamos saber as notas de matemática de 2016 prevista pelo modelo"
   ]
  },
  {
   "cell_type": "code",
   "execution_count": 66,
   "metadata": {},
   "outputs": [],
   "source": [
    "prediction = lm.predict(ftest)"
   ]
  },
  {
   "cell_type": "code",
   "execution_count": 68,
   "metadata": {},
   "outputs": [
    {
     "data": {
      "text/plain": [
       "(4576,)"
      ]
     },
     "execution_count": 68,
     "metadata": {},
     "output_type": "execute_result"
    }
   ],
   "source": [
    "prediction.shape"
   ]
  },
  {
   "cell_type": "code",
   "execution_count": 70,
   "metadata": {},
   "outputs": [],
   "source": [
    "ftest['NU_NOTA_MT'] = prediction"
   ]
  },
  {
   "cell_type": "code",
   "execution_count": 71,
   "metadata": {},
   "outputs": [
    {
     "data": {
      "text/html": [
       "<div>\n",
       "<style scoped>\n",
       "    .dataframe tbody tr th:only-of-type {\n",
       "        vertical-align: middle;\n",
       "    }\n",
       "\n",
       "    .dataframe tbody tr th {\n",
       "        vertical-align: top;\n",
       "    }\n",
       "\n",
       "    .dataframe thead th {\n",
       "        text-align: right;\n",
       "    }\n",
       "</style>\n",
       "<table border=\"1\" class=\"dataframe\">\n",
       "  <thead>\n",
       "    <tr style=\"text-align: right;\">\n",
       "      <th></th>\n",
       "      <th>NU_INSCRICAO</th>\n",
       "      <th>CO_UF_RESIDENCIA</th>\n",
       "      <th>SG_UF_RESIDENCIA</th>\n",
       "      <th>NU_IDADE</th>\n",
       "      <th>TP_SEXO</th>\n",
       "      <th>TP_COR_RACA</th>\n",
       "      <th>TP_NACIONALIDADE</th>\n",
       "      <th>TP_ST_CONCLUSAO</th>\n",
       "      <th>TP_ANO_CONCLUIU</th>\n",
       "      <th>TP_ESCOLA</th>\n",
       "      <th>...</th>\n",
       "      <th>NU_NOTA_COMP5</th>\n",
       "      <th>NU_NOTA_REDACAO</th>\n",
       "      <th>Q001</th>\n",
       "      <th>Q002</th>\n",
       "      <th>Q006</th>\n",
       "      <th>Q024</th>\n",
       "      <th>Q025</th>\n",
       "      <th>Q026</th>\n",
       "      <th>Q027</th>\n",
       "      <th>Q047</th>\n",
       "    </tr>\n",
       "  </thead>\n",
       "  <tbody>\n",
       "    <tr>\n",
       "      <th>0</th>\n",
       "      <td>73ff9fcc02f0a99919906c942c2e1a1042cdcf98</td>\n",
       "      <td>41</td>\n",
       "      <td>PR</td>\n",
       "      <td>22</td>\n",
       "      <td>F</td>\n",
       "      <td>3</td>\n",
       "      <td>1</td>\n",
       "      <td>1</td>\n",
       "      <td>5</td>\n",
       "      <td>1</td>\n",
       "      <td>...</td>\n",
       "      <td>40.0</td>\n",
       "      <td>420.0</td>\n",
       "      <td>B</td>\n",
       "      <td>A</td>\n",
       "      <td>C</td>\n",
       "      <td>A</td>\n",
       "      <td>A</td>\n",
       "      <td>C</td>\n",
       "      <td>C</td>\n",
       "      <td>A</td>\n",
       "    </tr>\n",
       "    <tr>\n",
       "      <th>1</th>\n",
       "      <td>71a95f9f1b91a82c65ad94abbdf9f54e6066f968</td>\n",
       "      <td>21</td>\n",
       "      <td>MA</td>\n",
       "      <td>26</td>\n",
       "      <td>F</td>\n",
       "      <td>3</td>\n",
       "      <td>1</td>\n",
       "      <td>1</td>\n",
       "      <td>8</td>\n",
       "      <td>1</td>\n",
       "      <td>...</td>\n",
       "      <td>100.0</td>\n",
       "      <td>580.0</td>\n",
       "      <td>E</td>\n",
       "      <td>B</td>\n",
       "      <td>C</td>\n",
       "      <td>B</td>\n",
       "      <td>B</td>\n",
       "      <td>B</td>\n",
       "      <td>F</td>\n",
       "      <td>A</td>\n",
       "    </tr>\n",
       "    <tr>\n",
       "      <th>2</th>\n",
       "      <td>b38a03232f43b11c9d0788abaf060f7366053b6d</td>\n",
       "      <td>23</td>\n",
       "      <td>CE</td>\n",
       "      <td>21</td>\n",
       "      <td>M</td>\n",
       "      <td>1</td>\n",
       "      <td>1</td>\n",
       "      <td>2</td>\n",
       "      <td>0</td>\n",
       "      <td>2</td>\n",
       "      <td>...</td>\n",
       "      <td>80.0</td>\n",
       "      <td>320.0</td>\n",
       "      <td>E</td>\n",
       "      <td>E</td>\n",
       "      <td>D</td>\n",
       "      <td>B</td>\n",
       "      <td>B</td>\n",
       "      <td>A</td>\n",
       "      <td>NaN</td>\n",
       "      <td>A</td>\n",
       "    </tr>\n",
       "    <tr>\n",
       "      <th>3</th>\n",
       "      <td>70b682d9a3636be23f6120fa9d6b164eb3c6002d</td>\n",
       "      <td>15</td>\n",
       "      <td>PA</td>\n",
       "      <td>27</td>\n",
       "      <td>F</td>\n",
       "      <td>3</td>\n",
       "      <td>1</td>\n",
       "      <td>1</td>\n",
       "      <td>8</td>\n",
       "      <td>1</td>\n",
       "      <td>...</td>\n",
       "      <td>NaN</td>\n",
       "      <td>NaN</td>\n",
       "      <td>H</td>\n",
       "      <td>E</td>\n",
       "      <td>G</td>\n",
       "      <td>B</td>\n",
       "      <td>B</td>\n",
       "      <td>A</td>\n",
       "      <td>NaN</td>\n",
       "      <td>A</td>\n",
       "    </tr>\n",
       "    <tr>\n",
       "      <th>4</th>\n",
       "      <td>715494628a50142ce8cb17191cfe6d0f3cae0934</td>\n",
       "      <td>41</td>\n",
       "      <td>PR</td>\n",
       "      <td>18</td>\n",
       "      <td>M</td>\n",
       "      <td>1</td>\n",
       "      <td>1</td>\n",
       "      <td>2</td>\n",
       "      <td>0</td>\n",
       "      <td>2</td>\n",
       "      <td>...</td>\n",
       "      <td>0.0</td>\n",
       "      <td>320.0</td>\n",
       "      <td>D</td>\n",
       "      <td>H</td>\n",
       "      <td>H</td>\n",
       "      <td>C</td>\n",
       "      <td>B</td>\n",
       "      <td>A</td>\n",
       "      <td>NaN</td>\n",
       "      <td>A</td>\n",
       "    </tr>\n",
       "  </tbody>\n",
       "</table>\n",
       "<p>5 rows × 47 columns</p>\n",
       "</div>"
      ],
      "text/plain": [
       "                               NU_INSCRICAO  CO_UF_RESIDENCIA  \\\n",
       "0  73ff9fcc02f0a99919906c942c2e1a1042cdcf98                41   \n",
       "1  71a95f9f1b91a82c65ad94abbdf9f54e6066f968                21   \n",
       "2  b38a03232f43b11c9d0788abaf060f7366053b6d                23   \n",
       "3  70b682d9a3636be23f6120fa9d6b164eb3c6002d                15   \n",
       "4  715494628a50142ce8cb17191cfe6d0f3cae0934                41   \n",
       "\n",
       "  SG_UF_RESIDENCIA  NU_IDADE TP_SEXO  TP_COR_RACA  TP_NACIONALIDADE  \\\n",
       "0               PR        22       F            3                 1   \n",
       "1               MA        26       F            3                 1   \n",
       "2               CE        21       M            1                 1   \n",
       "3               PA        27       F            3                 1   \n",
       "4               PR        18       M            1                 1   \n",
       "\n",
       "   TP_ST_CONCLUSAO  TP_ANO_CONCLUIU  TP_ESCOLA  ...  NU_NOTA_COMP5  \\\n",
       "0                1                5          1  ...           40.0   \n",
       "1                1                8          1  ...          100.0   \n",
       "2                2                0          2  ...           80.0   \n",
       "3                1                8          1  ...            NaN   \n",
       "4                2                0          2  ...            0.0   \n",
       "\n",
       "   NU_NOTA_REDACAO  Q001  Q002  Q006  Q024  Q025  Q026  Q027  Q047  \n",
       "0            420.0     B     A     C     A     A     C     C     A  \n",
       "1            580.0     E     B     C     B     B     B     F     A  \n",
       "2            320.0     E     E     D     B     B     A   NaN     A  \n",
       "3              NaN     H     E     G     B     B     A   NaN     A  \n",
       "4            320.0     D     H     H     C     B     A   NaN     A  \n",
       "\n",
       "[5 rows x 47 columns]"
      ]
     },
     "execution_count": 71,
     "metadata": {},
     "output_type": "execute_result"
    }
   ],
   "source": [
    "test.head()"
   ]
  },
  {
   "cell_type": "markdown",
   "metadata": {},
   "source": [
    "### Vamos salvar da forma que é pedido, número de inscrição e Nota de matemática em um arquivo "
   ]
  },
  {
   "cell_type": "code",
   "execution_count": 72,
   "metadata": {},
   "outputs": [
    {
     "data": {
      "text/plain": [
       "NU_INSCRICAO\n",
       "73ff9fcc02f0a99919906c942c2e1a1042cdcf98    425.555553\n",
       "71a95f9f1b91a82c65ad94abbdf9f54e6066f968    474.621649\n",
       "b38a03232f43b11c9d0788abaf060f7366053b6d    571.316141\n",
       "70b682d9a3636be23f6120fa9d6b164eb3c6002d     -2.946823\n",
       "715494628a50142ce8cb17191cfe6d0f3cae0934    550.340316\n",
       "Name: NU_NOTA_MT, dtype: float64"
      ]
     },
     "execution_count": 72,
     "metadata": {},
     "output_type": "execute_result"
    }
   ],
   "source": [
    "resp = ftest['NU_NOTA_MT']\n",
    "resp.head()"
   ]
  },
  {
   "cell_type": "code",
   "execution_count": 73,
   "metadata": {},
   "outputs": [],
   "source": [
    "with open('answer.csv','w',newline='\\n') as f:\n",
    "    f.write(resp.to_csv(line_terminator=None))"
   ]
  },
  {
   "cell_type": "code",
   "execution_count": null,
   "metadata": {},
   "outputs": [],
   "source": []
  }
 ],
 "metadata": {
  "kernelspec": {
   "display_name": "Python 3",
   "language": "python",
   "name": "python3"
  },
  "language_info": {
   "codemirror_mode": {
    "name": "ipython",
    "version": 3
   },
   "file_extension": ".py",
   "mimetype": "text/x-python",
   "name": "python",
   "nbconvert_exporter": "python",
   "pygments_lexer": "ipython3",
   "version": "3.7.6"
  }
 },
 "nbformat": 4,
 "nbformat_minor": 4
}
